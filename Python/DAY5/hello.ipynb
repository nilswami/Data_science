{
 "cells": [
  {
   "cell_type": "markdown",
   "id": "c7447400",
   "metadata": {},
   "source": [
    "What is programming language?\n",
    " - used for communicating between user and computer\n",
    " -python is highlevel programing lang\n",
    "   HLL -Human understandbe , user friendly...\n",
    "       -Easier to code\n",
    "       -c , c++ , python\n",
    "   LLL- close to maschine\n",
    "       - machine code /binary code\n",
    "       -Assembly lang\n",
    "       -difficult to understandle by human\n",
    "       -platform dependent\n",
    "       \n",
    "  \n",
    "  \n",
    "  Python :\n",
    "  \n",
    "                    compiler                                          interprete(PVM) \n",
    "  Source code(.py)-----------> Byte code(intermediate code i.e .pyc) --------------------> Binary/maschine code  \n",
    "  \n",
    "  \n",
    "  command for generating byte code (from cmd run)\n",
    "  \n",
    "  \n",
    "  python -m dis .\\code.py\n",
    "       "
   ]
  },
  {
   "cell_type": "code",
   "execution_count": 1,
   "id": "1a5233c0",
   "metadata": {},
   "outputs": [
    {
     "name": "stdout",
     "output_type": "stream",
     "text": [
      "hello world\n"
     ]
    }
   ],
   "source": [
    "print (\"hello world\")"
   ]
  },
  {
   "cell_type": "code",
   "execution_count": 2,
   "id": "f17eb094",
   "metadata": {},
   "outputs": [
    {
     "name": "stdout",
     "output_type": "stream",
     "text": [
      "300\n"
     ]
    }
   ],
   "source": [
    "x=100\n",
    "y=200\n",
    "r=x+y\n",
    "print(r)"
   ]
  },
  {
   "cell_type": "code",
   "execution_count": null,
   "id": "31553250",
   "metadata": {},
   "outputs": [],
   "source": []
  },
  {
   "cell_type": "code",
   "execution_count": null,
   "id": "b5901cc8",
   "metadata": {},
   "outputs": [],
   "source": []
  }
 ],
 "metadata": {
  "kernelspec": {
   "display_name": "Python 3 (ipykernel)",
   "language": "python",
   "name": "python3"
  },
  "language_info": {
   "codemirror_mode": {
    "name": "ipython",
    "version": 3
   },
   "file_extension": ".py",
   "mimetype": "text/x-python",
   "name": "python",
   "nbconvert_exporter": "python",
   "pygments_lexer": "ipython3",
   "version": "3.9.7"
  }
 },
 "nbformat": 4,
 "nbformat_minor": 5
}
